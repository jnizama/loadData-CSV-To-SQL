{
  "nbformat": 4,
  "nbformat_minor": 0,
  "metadata": {
    "colab": {
      "provenance": [],
      "authorship_tag": "ABX9TyOnvmM0Ea8vBEj4WPvk0web",
      "include_colab_link": true
    },
    "kernelspec": {
      "name": "python3",
      "display_name": "Python 3"
    },
    "language_info": {
      "name": "python"
    }
  },
  "cells": [
    {
      "cell_type": "markdown",
      "metadata": {
        "id": "view-in-github",
        "colab_type": "text"
      },
      "source": [
        "<a href=\"https://colab.research.google.com/github/jnizama/loadData-CSV-To-SQL/blob/main/ETL_CargaCSV_a_AzureSQL.ipynb\" target=\"_parent\"><img src=\"https://colab.research.google.com/assets/colab-badge.svg\" alt=\"Open In Colab\"/></a>"
      ]
    },
    {
      "cell_type": "markdown",
      "source": [
        "#ETL CON SQL SERVER Y CSV\n",
        "\n",
        "El objetivo es llevar los CSV de las tablas dimensionales a tablas en SQL Server\n",
        "Adicionalmente, hacemos unas pequeñas transformaciones sobre algunas columnas así como agregar columnas que guarde la fecha que se migran los datos"
      ],
      "metadata": {
        "id": "nSVxtgUJNI_D"
      }
    },
    {
      "cell_type": "code",
      "execution_count": 1,
      "metadata": {
        "colab": {
          "base_uri": "https://localhost:8080/"
        },
        "collapsed": true,
        "id": "bLf0tJkBNF_j",
        "outputId": "396908b2-8702-4dfa-bcec-bb5e52e0598d"
      },
      "outputs": [
        {
          "output_type": "stream",
          "name": "stdout",
          "text": [
            "Requirement already satisfied: pip in /usr/local/lib/python3.10/dist-packages (24.1.2)\n",
            "Collecting pip\n",
            "  Downloading pip-24.3.1-py3-none-any.whl.metadata (3.7 kB)\n",
            "Downloading pip-24.3.1-py3-none-any.whl (1.8 MB)\n",
            "\u001b[2K   \u001b[90m━━━━━━━━━━━━━━━━━━━━━━━━━━━━━━━━━━━━━━━━\u001b[0m \u001b[32m1.8/1.8 MB\u001b[0m \u001b[31m17.7 MB/s\u001b[0m eta \u001b[36m0:00:00\u001b[0m\n",
            "\u001b[?25hInstalling collected packages: pip\n",
            "  Attempting uninstall: pip\n",
            "    Found existing installation: pip 24.1.2\n",
            "    Uninstalling pip-24.1.2:\n",
            "      Successfully uninstalled pip-24.1.2\n",
            "Successfully installed pip-24.3.1\n",
            "Collecting pymssql\n",
            "  Downloading pymssql-2.3.2-cp310-cp310-manylinux_2_28_x86_64.whl.metadata (4.7 kB)\n",
            "Downloading pymssql-2.3.2-cp310-cp310-manylinux_2_28_x86_64.whl (4.6 MB)\n",
            "\u001b[2K   \u001b[90m━━━━━━━━━━━━━━━━━━━━━━━━━━━━━━━━━━━━━━━━\u001b[0m \u001b[32m4.6/4.6 MB\u001b[0m \u001b[31m47.3 MB/s\u001b[0m eta \u001b[36m0:00:00\u001b[0m\n",
            "\u001b[?25hInstalling collected packages: pymssql\n",
            "Successfully installed pymssql-2.3.2\n"
          ]
        }
      ],
      "source": [
        "#installing dependencies\n",
        "!pip install -U pip\n",
        "!pip install pymssql"
      ]
    },
    {
      "cell_type": "code",
      "source": [
        "# Connecting to SQL Server using pymssql driver\n",
        "import pymssql\n",
        "\n",
        "# Database connection parameters\n",
        "server = 'server-jnizama.database.windows.net'\n",
        "user = 'jnizama'\n",
        "password = 'Bethel2521'\n",
        "database = 'dbDeveloper'\n",
        "\n",
        "try:\n",
        "    # Establishing connection\n",
        "    conn = pymssql.connect(server=server, user=user, password=password, database=database)\n",
        "    print(\"Connection established successfully.\")\n",
        "\n",
        "    try:\n",
        "        # Performing database operations\n",
        "        cursor = conn.cursor()\n",
        "        cursor.execute('SELECT * FROM DimAccount;')\n",
        "\n",
        "        # Fetch and print rows\n",
        "        row = cursor.fetchone()\n",
        "        while row:\n",
        "            print(str(row))\n",
        "            row = cursor.fetchone()\n",
        "    except Exception as query_error:\n",
        "        print(\"Error during query execution:\", query_error)\n",
        "    finally:\n",
        "        # Ensure the connection is closed\n",
        "        conn.close()\n",
        "        print(\"Connection closed.\")\n",
        "except pymssql.InterfaceError as iface_error:\n",
        "    print(\"Database connection error (InterfaceError):\", iface_error)\n",
        "except pymssql.DatabaseError as db_error:\n",
        "    print(\"Database-related error:\", db_error)\n",
        "except Exception as e:\n",
        "    print(\"Unexpected error occurred:\", e)\n"
      ],
      "metadata": {
        "colab": {
          "base_uri": "https://localhost:8080/"
        },
        "id": "yLTHMa_qNH31",
        "outputId": "70a1ae01-7af8-4f8d-b870-15f4a4ba19cc"
      },
      "execution_count": 14,
      "outputs": [
        {
          "output_type": "stream",
          "name": "stdout",
          "text": [
            "Database-related error: (18456, b'DB-Lib error message 20018, severity 14:\\nGeneral SQL Server error: Check messages from the SQL Server\\nDB-Lib error message 20002, severity 9:\\nAdaptive Server connection failed (server-jnizama.database.windows.net)\\nDB-Lib error message 20002, severity 9:\\nAdaptive Server connection failed (server-jnizama.database.windows.net)\\n')\n"
          ]
        }
      ]
    },
    {
      "cell_type": "code",
      "source": [],
      "metadata": {
        "id": "KuEuO6BbObdv"
      },
      "execution_count": null,
      "outputs": []
    }
  ]
}