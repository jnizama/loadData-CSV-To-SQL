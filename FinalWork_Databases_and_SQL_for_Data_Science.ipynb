{
  "cells": [
    {
      "cell_type": "markdown",
      "metadata": {
        "id": "view-in-github",
        "colab_type": "text"
      },
      "source": [
        "<a href=\"https://colab.research.google.com/github/jnizama/loadData-CSV-To-SQL/blob/main/FinalWork_Databases_and_SQL_for_Data_Science.ipynb\" target=\"_parent\"><img src=\"https://colab.research.google.com/assets/colab-badge.svg\" alt=\"Open In Colab\"/></a>"
      ]
    },
    {
      "cell_type": "markdown",
      "metadata": {
        "id": "K1tnopXD44bm"
      },
      "source": [
        "<center>\n",
        "    <img src=\"https://cf-courses-data.s3.us.cloud-object-storage.appdomain.cloud/IBMDeveloperSkillsNetwork-DB0201EN-SkillsNetwork/labs/FinalModule_Coursera_V5/images/SN_web_lightmode.png\" width=\"300\" alt=\"cognitiveclass.ai logo\">\n",
        "</center>\n",
        "\n",
        "<h1 align=center><font size = 5>Assignment: Notebook for Graded Assessment</font></h1>\n"
      ]
    },
    {
      "cell_type": "markdown",
      "metadata": {
        "id": "pHx8w-0A44bp"
      },
      "source": [
        "# Introduction\n",
        "\n",
        "Using this Python notebook you will:\n",
        "\n",
        "1.  Understand three Chicago datasets\n",
        "2.  Load the three datasets into three tables in a SQLIte database\n",
        "3.  Execute SQL queries to answer assignment questions\n"
      ]
    },
    {
      "cell_type": "markdown",
      "metadata": {
        "id": "yOQUa2HC44bq"
      },
      "source": [
        "## Understand the datasets\n",
        "\n",
        "To complete the assignment problems in this notebook you will be using three datasets that are available on the city of Chicago's Data Portal:\n",
        "\n",
        "1.  <a href=\"https://data.cityofchicago.org/Health-Human-Services/Census-Data-Selected-socioeconomic-indicators-in-C/kn9c-c2s2?utm_medium=Exinfluencer&utm_source=Exinfluencer&utm_content=000026UJ&utm_term=10006555&utm_id=NA-SkillsNetwork-Channel-SkillsNetworkCoursesIBMDeveloperSkillsNetworkDB0201ENSkillsNetwork20127838-2021-01-01\">Socioeconomic Indicators in Chicago</a>\n",
        "2.  <a href=\"https://data.cityofchicago.org/Education/Chicago-Public-Schools-Progress-Report-Cards-2011-/9xs2-f89t?utm_medium=Exinfluencer&utm_source=Exinfluencer&utm_content=000026UJ&utm_term=10006555&utm_id=NA-SkillsNetwork-Channel-SkillsNetworkCoursesIBMDeveloperSkillsNetworkDB0201ENSkillsNetwork20127838-2021-01-01\">Chicago Public Schools</a>\n",
        "3.  <a href=\"https://data.cityofchicago.org/Public-Safety/Crimes-2001-to-present/ijzp-q8t2?utm_medium=Exinfluencer&utm_source=Exinfluencer&utm_content=000026UJ&utm_term=10006555&utm_id=NA-SkillsNetwork-Channel-SkillsNetworkCoursesIBMDeveloperSkillsNetworkDB0201ENSkillsNetwork20127838-2021-01-01\">Chicago Crime Data</a>\n",
        "\n",
        "### 1. Socioeconomic Indicators in Chicago\n",
        "\n",
        "This dataset contains a selection of six socioeconomic indicators of public health significance and a “hardship index,” for each Chicago community area, for the years 2008 – 2012.\n",
        "\n",
        "A detailed description of this dataset and the original dataset can be obtained from the Chicago Data Portal at:\n",
        "\n",
        "[https://data.cityofchicago.org/Health-Human-Services/Census-Data-Selected-socioeconomic-indicators-in-C/kn9c-c2s2](https://data.cityofchicago.org/Health-Human-Services/Census-Data-Selected-socioeconomic-indicators-in-C/kn9c-c2s2?utm_medium=Exinfluencer&utm_source=Exinfluencer&utm_content=000026UJ&utm_term=10006555&utm_id=NA-SkillsNetwork-Channel-SkillsNetworkCoursesIBMDeveloperSkillsNetworkDB0201ENSkillsNetwork20127838-2021-01-01&cm_mmc=Email_Newsletter-\\_-Developer_Ed%2BTech-\\_-WW_WW-\\_-SkillsNetwork-Courses-IBMDeveloperSkillsNetwork-DB0201EN-SkillsNetwork-20127838&cm_mmca1=000026UJ&cm_mmca2=10006555&cm_mmca3=M12345678&cvosrc=email.Newsletter.M12345678&cvo_campaign=000026UJ)\n",
        "\n",
        "### 2. Chicago Public Schools\n",
        "\n",
        "This dataset shows all school level performance data used to create CPS School Report Cards for the 2011-2012 school year. This dataset is provided by the city of Chicago's Data Portal.\n",
        "\n",
        "A detailed description of this dataset and the original dataset can be obtained from the Chicago Data Portal at:\n",
        "\n",
        "[https://data.cityofchicago.org/Education/Chicago-Public-Schools-Progress-Report-Cards-2011-/9xs2-f89t](https://data.cityofchicago.org/Education/Chicago-Public-Schools-Progress-Report-Cards-2011-/9xs2-f89t?utm_medium=Exinfluencer&utm_source=Exinfluencer&utm_content=000026UJ&utm_term=10006555&utm_id=NA-SkillsNetwork-Channel-SkillsNetworkCoursesIBMDeveloperSkillsNetworkDB0201ENSkillsNetwork20127838-2021-01-01&cm_mmc=Email_Newsletter-\\_-Developer_Ed%2BTech-\\_-WW_WW-\\_-SkillsNetwork-Courses-IBMDeveloperSkillsNetwork-DB0201EN-SkillsNetwork-20127838&cm_mmca1=000026UJ&cm_mmca2=10006555&cm_mmca3=M12345678&cvosrc=email.Newsletter.M12345678&cvo_campaign=000026UJ)\n",
        "\n",
        "### 3. Chicago Crime Data\n",
        "\n",
        "This dataset reflects reported incidents of crime (with the exception of murders where data exists for each victim) that occurred in the City of Chicago from 2001 to present, minus the most recent seven days.\n",
        "\n",
        "A detailed description of this dataset and the original dataset can be obtained from the Chicago Data Portal at:\n",
        "\n",
        "[https://data.cityofchicago.org/Public-Safety/Crimes-2001-to-present/ijzp-q8t2](https://data.cityofchicago.org/Public-Safety/Crimes-2001-to-present/ijzp-q8t2?utm_medium=Exinfluencer&utm_source=Exinfluencer&utm_content=000026UJ&utm_term=10006555&utm_id=NA-SkillsNetwork-Channel-SkillsNetworkCoursesIBMDeveloperSkillsNetworkDB0201ENSkillsNetwork20127838-2021-01-01&cm_mmc=Email_Newsletter-\\_-Developer_Ed%2BTech-\\_-WW_WW-\\_-SkillsNetwork-Courses-IBMDeveloperSkillsNetwork-DB0201EN-SkillsNetwork-20127838&cm_mmca1=000026UJ&cm_mmca2=10006555&cm_mmca3=M12345678&cvosrc=email.Newsletter.M12345678&cvo_campaign=000026UJ)\n"
      ]
    },
    {
      "cell_type": "markdown",
      "metadata": {
        "id": "5AeN5U2044bs"
      },
      "source": [
        "### Download the datasets\n",
        "\n",
        "This assignment requires you to have these three tables populated with a subset of the whole datasets.\n",
        "\n",
        "In many cases the dataset to be analyzed is available as a .CSV (comma separated values) file, perhaps on the internet.\n",
        "\n",
        "Use the links below to read the data files using the Pandas library.\n",
        "\n",
        "* Chicago Census Data\n",
        "\n",
        "https://cf-courses-data.s3.us.cloud-object-storage.appdomain.cloud/IBMDeveloperSkillsNetwork-DB0201EN-SkillsNetwork/labs/FinalModule_Coursera_V5/data/ChicagoCensusData.csv?utm_medium=Exinfluencer&utm_source=Exinfluencer&utm_content=000026UJ&utm_term=10006555&utm_id=NA-SkillsNetwork-Channel-SkillsNetworkCoursesIBMDeveloperSkillsNetworkDB0201ENSkillsNetwork20127838-2021-01-01\n",
        "\n",
        "* Chicago Public Schools\n",
        "\n",
        "https://cf-courses-data.s3.us.cloud-object-storage.appdomain.cloud/IBMDeveloperSkillsNetwork-DB0201EN-SkillsNetwork/labs/FinalModule_Coursera_V5/data/ChicagoPublicSchools.csv?utm_medium=Exinfluencer&utm_source=Exinfluencer&utm_content=000026UJ&utm_term=10006555&utm_id=NA-SkillsNetwork-Channel-SkillsNetworkCoursesIBMDeveloperSkillsNetworkDB0201ENSkillsNetwork20127838-2021-01-01\n",
        "\n",
        "* Chicago Crime Data\n",
        "\n",
        "https://cf-courses-data.s3.us.cloud-object-storage.appdomain.cloud/IBMDeveloperSkillsNetwork-DB0201EN-SkillsNetwork/labs/FinalModule_Coursera_V5/data/ChicagoCrimeData.csv?utm_medium=Exinfluencer&utm_source=Exinfluencer&utm_content=000026UJ&utm_term=10006555&utm_id=NA-SkillsNetwork-Channel-SkillsNetworkCoursesIBMDeveloperSkillsNetworkDB0201ENSkillsNetwork20127838-2021-01-01\n",
        "\n",
        "**NOTE:** Ensure you use the datasets available on the links above instead of directly from the Chicago Data Portal. The versions linked here are subsets of the original datasets and have some of the column names modified to be more database friendly which will make it easier to complete this assignment.\n"
      ]
    },
    {
      "cell_type": "markdown",
      "metadata": {
        "id": "VMMMIk2w44bt"
      },
      "source": [
        "Execute the below code cell to avoid prettytable default error.\n"
      ]
    },
    {
      "cell_type": "code",
      "execution_count": null,
      "metadata": {
        "scrolled": true,
        "id": "CCgLF9D544bt",
        "outputId": "cea2620a-d55c-4d87-b416-ccb13eb1bf29"
      },
      "outputs": [
        {
          "name": "stdout",
          "output_type": "stream",
          "text": [
            "Requirement already satisfied: ipython-sql in /opt/conda/lib/python3.12/site-packages (0.5.0)\n",
            "Requirement already satisfied: prettytable in /opt/conda/lib/python3.12/site-packages (3.14.0)\n",
            "Requirement already satisfied: ipython in /opt/conda/lib/python3.12/site-packages (from ipython-sql) (8.31.0)\n",
            "Requirement already satisfied: sqlalchemy>=2.0 in /opt/conda/lib/python3.12/site-packages (from ipython-sql) (2.0.37)\n",
            "Requirement already satisfied: sqlparse in /opt/conda/lib/python3.12/site-packages (from ipython-sql) (0.5.3)\n",
            "Requirement already satisfied: six in /opt/conda/lib/python3.12/site-packages (from ipython-sql) (1.17.0)\n",
            "Requirement already satisfied: ipython-genutils in /opt/conda/lib/python3.12/site-packages (from ipython-sql) (0.2.0)\n",
            "Requirement already satisfied: wcwidth in /opt/conda/lib/python3.12/site-packages (from prettytable) (0.2.13)\n",
            "Requirement already satisfied: greenlet!=0.4.17 in /opt/conda/lib/python3.12/site-packages (from sqlalchemy>=2.0->ipython-sql) (3.1.1)\n",
            "Requirement already satisfied: typing-extensions>=4.6.0 in /opt/conda/lib/python3.12/site-packages (from sqlalchemy>=2.0->ipython-sql) (4.12.2)\n",
            "Requirement already satisfied: decorator in /opt/conda/lib/python3.12/site-packages (from ipython->ipython-sql) (5.1.1)\n",
            "Requirement already satisfied: jedi>=0.16 in /opt/conda/lib/python3.12/site-packages (from ipython->ipython-sql) (0.19.2)\n",
            "Requirement already satisfied: matplotlib-inline in /opt/conda/lib/python3.12/site-packages (from ipython->ipython-sql) (0.1.7)\n",
            "Requirement already satisfied: pexpect>4.3 in /opt/conda/lib/python3.12/site-packages (from ipython->ipython-sql) (4.9.0)\n",
            "Requirement already satisfied: prompt_toolkit<3.1.0,>=3.0.41 in /opt/conda/lib/python3.12/site-packages (from ipython->ipython-sql) (3.0.50)\n",
            "Requirement already satisfied: pygments>=2.4.0 in /opt/conda/lib/python3.12/site-packages (from ipython->ipython-sql) (2.19.1)\n",
            "Requirement already satisfied: stack_data in /opt/conda/lib/python3.12/site-packages (from ipython->ipython-sql) (0.6.3)\n",
            "Requirement already satisfied: traitlets>=5.13.0 in /opt/conda/lib/python3.12/site-packages (from ipython->ipython-sql) (5.14.3)\n",
            "Requirement already satisfied: parso<0.9.0,>=0.8.4 in /opt/conda/lib/python3.12/site-packages (from jedi>=0.16->ipython->ipython-sql) (0.8.4)\n",
            "Requirement already satisfied: ptyprocess>=0.5 in /opt/conda/lib/python3.12/site-packages (from pexpect>4.3->ipython->ipython-sql) (0.7.0)\n",
            "Requirement already satisfied: executing>=1.2.0 in /opt/conda/lib/python3.12/site-packages (from stack_data->ipython->ipython-sql) (2.1.0)\n",
            "Requirement already satisfied: asttokens>=2.1.0 in /opt/conda/lib/python3.12/site-packages (from stack_data->ipython->ipython-sql) (3.0.0)\n",
            "Requirement already satisfied: pure_eval in /opt/conda/lib/python3.12/site-packages (from stack_data->ipython->ipython-sql) (0.2.3)\n"
          ]
        }
      ],
      "source": [
        "!pip install ipython-sql prettytable\n",
        "\n",
        "import prettytable\n",
        "# Set pandas options to display all columns\n",
        "pd.set_option('display.max_columns', None)\n",
        "\n",
        "prettytable.DEFAULT = 'DEFAULT'"
      ]
    },
    {
      "cell_type": "markdown",
      "metadata": {
        "id": "1rpbCKfV44bv"
      },
      "source": [
        "### Store the datasets in database tables\n",
        "\n",
        "To analyze the data using SQL, it first needs to be loaded into SQLite DB.\n",
        "We will create three tables in as under:\n",
        "\n",
        "1.  **CENSUS_DATA**\n",
        "2.  **CHICAGO_PUBLIC_SCHOOLS**\n",
        "3.  **CHICAGO_CRIME_DATA**\n"
      ]
    },
    {
      "cell_type": "markdown",
      "metadata": {
        "id": "UstWnHrS44bv"
      },
      "source": [
        "Load the `pandas` and `sqlite3` libraries and establish a connection to `FinalDB.db`\n"
      ]
    },
    {
      "cell_type": "code",
      "execution_count": null,
      "metadata": {
        "scrolled": true,
        "id": "NPF7dZ-b44bv",
        "outputId": "53dab6b5-f3c7-4538-b3a1-68c57cb8b57e"
      },
      "outputs": [
        {
          "name": "stdout",
          "output_type": "stream",
          "text": [
            "Collecting pandas\n",
            "  Downloading pandas-2.2.3-cp312-cp312-manylinux_2_17_x86_64.manylinux2014_x86_64.whl.metadata (89 kB)\n",
            "Collecting numpy>=1.26.0 (from pandas)\n",
            "  Downloading numpy-2.2.2-cp312-cp312-manylinux_2_17_x86_64.manylinux2014_x86_64.whl.metadata (62 kB)\n",
            "Requirement already satisfied: python-dateutil>=2.8.2 in /opt/conda/lib/python3.12/site-packages (from pandas) (2.9.0.post0)\n",
            "Requirement already satisfied: pytz>=2020.1 in /opt/conda/lib/python3.12/site-packages (from pandas) (2024.2)\n",
            "Collecting tzdata>=2022.7 (from pandas)\n",
            "  Downloading tzdata-2025.1-py2.py3-none-any.whl.metadata (1.4 kB)\n",
            "Requirement already satisfied: six>=1.5 in /opt/conda/lib/python3.12/site-packages (from python-dateutil>=2.8.2->pandas) (1.17.0)\n",
            "Downloading pandas-2.2.3-cp312-cp312-manylinux_2_17_x86_64.manylinux2014_x86_64.whl (12.7 MB)\n",
            "\u001b[2K   \u001b[90m━━━━━━━━━━━━━━━━━━━━━━━━━━━━━━━━━━━━━━━━\u001b[0m \u001b[32m12.7/12.7 MB\u001b[0m \u001b[31m126.1 MB/s\u001b[0m eta \u001b[36m0:00:00\u001b[0m\n",
            "\u001b[?25hDownloading numpy-2.2.2-cp312-cp312-manylinux_2_17_x86_64.manylinux2014_x86_64.whl (16.1 MB)\n",
            "\u001b[2K   \u001b[90m━━━━━━━━━━━━━━━━━━━━━━━━━━━━━━━━━━━━━━━━\u001b[0m \u001b[32m16.1/16.1 MB\u001b[0m \u001b[31m101.6 MB/s\u001b[0m eta \u001b[36m0:00:00\u001b[0m\n",
            "\u001b[?25hDownloading tzdata-2025.1-py2.py3-none-any.whl (346 kB)\n",
            "Installing collected packages: tzdata, numpy, pandas\n",
            "Successfully installed numpy-2.2.2 pandas-2.2.3 tzdata-2025.1\n"
          ]
        }
      ],
      "source": [
        "!pip install --upgrade pandas"
      ]
    },
    {
      "cell_type": "code",
      "execution_count": null,
      "metadata": {
        "scrolled": true,
        "id": "pT3sFl8T44bw",
        "outputId": "bd99c723-3b6f-4546-b7ee-8be0b6e4b87f"
      },
      "outputs": [
        {
          "name": "stdout",
          "output_type": "stream",
          "text": [
            "Requirement already satisfied: ipython-sql in /opt/conda/lib/python3.12/site-packages (0.5.0)\n",
            "Requirement already satisfied: prettytable in /opt/conda/lib/python3.12/site-packages (from ipython-sql) (3.14.0)\n",
            "Requirement already satisfied: ipython in /opt/conda/lib/python3.12/site-packages (from ipython-sql) (8.31.0)\n",
            "Requirement already satisfied: sqlalchemy>=2.0 in /opt/conda/lib/python3.12/site-packages (from ipython-sql) (2.0.37)\n",
            "Requirement already satisfied: sqlparse in /opt/conda/lib/python3.12/site-packages (from ipython-sql) (0.5.3)\n",
            "Requirement already satisfied: six in /opt/conda/lib/python3.12/site-packages (from ipython-sql) (1.17.0)\n",
            "Requirement already satisfied: ipython-genutils in /opt/conda/lib/python3.12/site-packages (from ipython-sql) (0.2.0)\n",
            "Requirement already satisfied: greenlet!=0.4.17 in /opt/conda/lib/python3.12/site-packages (from sqlalchemy>=2.0->ipython-sql) (3.1.1)\n",
            "Requirement already satisfied: typing-extensions>=4.6.0 in /opt/conda/lib/python3.12/site-packages (from sqlalchemy>=2.0->ipython-sql) (4.12.2)\n",
            "Requirement already satisfied: decorator in /opt/conda/lib/python3.12/site-packages (from ipython->ipython-sql) (5.1.1)\n",
            "Requirement already satisfied: jedi>=0.16 in /opt/conda/lib/python3.12/site-packages (from ipython->ipython-sql) (0.19.2)\n",
            "Requirement already satisfied: matplotlib-inline in /opt/conda/lib/python3.12/site-packages (from ipython->ipython-sql) (0.1.7)\n",
            "Requirement already satisfied: pexpect>4.3 in /opt/conda/lib/python3.12/site-packages (from ipython->ipython-sql) (4.9.0)\n",
            "Requirement already satisfied: prompt_toolkit<3.1.0,>=3.0.41 in /opt/conda/lib/python3.12/site-packages (from ipython->ipython-sql) (3.0.50)\n",
            "Requirement already satisfied: pygments>=2.4.0 in /opt/conda/lib/python3.12/site-packages (from ipython->ipython-sql) (2.19.1)\n",
            "Requirement already satisfied: stack_data in /opt/conda/lib/python3.12/site-packages (from ipython->ipython-sql) (0.6.3)\n",
            "Requirement already satisfied: traitlets>=5.13.0 in /opt/conda/lib/python3.12/site-packages (from ipython->ipython-sql) (5.14.3)\n",
            "Requirement already satisfied: wcwidth in /opt/conda/lib/python3.12/site-packages (from prettytable->ipython-sql) (0.2.13)\n",
            "Requirement already satisfied: parso<0.9.0,>=0.8.4 in /opt/conda/lib/python3.12/site-packages (from jedi>=0.16->ipython->ipython-sql) (0.8.4)\n",
            "Requirement already satisfied: ptyprocess>=0.5 in /opt/conda/lib/python3.12/site-packages (from pexpect>4.3->ipython->ipython-sql) (0.7.0)\n",
            "Requirement already satisfied: executing>=1.2.0 in /opt/conda/lib/python3.12/site-packages (from stack_data->ipython->ipython-sql) (2.1.0)\n",
            "Requirement already satisfied: asttokens>=2.1.0 in /opt/conda/lib/python3.12/site-packages (from stack_data->ipython->ipython-sql) (3.0.0)\n",
            "Requirement already satisfied: pure_eval in /opt/conda/lib/python3.12/site-packages (from stack_data->ipython->ipython-sql) (0.2.3)\n"
          ]
        }
      ],
      "source": [
        "!pip install ipython-sql"
      ]
    },
    {
      "cell_type": "markdown",
      "metadata": {
        "id": "fjlVj05344bw"
      },
      "source": [
        "%load_ext sql\n"
      ]
    },
    {
      "cell_type": "code",
      "execution_count": null,
      "metadata": {
        "id": "H7Uq5u_Y44bw",
        "outputId": "4b28f370-5476-4d4c-d4ac-e4939045bad7"
      },
      "outputs": [
        {
          "name": "stdout",
          "output_type": "stream",
          "text": [
            "The sql extension is already loaded. To reload it, use:\n",
            "  %reload_ext sql\n"
          ]
        }
      ],
      "source": [
        "%load_ext sql"
      ]
    },
    {
      "cell_type": "markdown",
      "metadata": {
        "id": "WSRNq3Xa44bw"
      },
      "source": [
        "Use `Pandas` to load the data available in the links above to dataframes. Use these dataframes to load data on to the database `FinalDB.db` as required tables.\n"
      ]
    },
    {
      "cell_type": "code",
      "execution_count": null,
      "metadata": {
        "id": "7llXKBv544bw"
      },
      "outputs": [],
      "source": [
        "import pandas as pd\n",
        "\n",
        "dfCRIME = pd.read_csv(\"ChicagoCrimeData.csv\")\n",
        "dfCENSUS = pd.read_csv(\"ChicagoCensusData.csv\")\n",
        "dfSCHOOLS = pd.read_csv(\"ChicagoPublicSchools.csv\")"
      ]
    },
    {
      "cell_type": "markdown",
      "metadata": {
        "id": "gEQm-7pj44bx"
      },
      "source": [
        "Establish a connection between SQL magic module and the database `FinalDB.db`\n"
      ]
    },
    {
      "cell_type": "code",
      "execution_count": null,
      "metadata": {
        "id": "lQwniHXN44bx",
        "outputId": "6d97655f-5e06-4267-97dc-85f06d65881f"
      },
      "outputs": [
        {
          "data": {
            "text/plain": [
              "ID                       533\n",
              "CASE_NUMBER              533\n",
              "DATE                     533\n",
              "BLOCK                    533\n",
              "IUCR                     533\n",
              "PRIMARY_TYPE             533\n",
              "DESCRIPTION              533\n",
              "LOCATION_DESCRIPTION     533\n",
              "ARREST                   533\n",
              "DOMESTIC                 533\n",
              "BEAT                     533\n",
              "DISTRICT                 533\n",
              "WARD                     490\n",
              "COMMUNITY_AREA_NUMBER    490\n",
              "FBICODE                  533\n",
              "X_COORDINATE             529\n",
              "Y_COORDINATE             529\n",
              "YEAR                     533\n",
              "LATITUDE                 529\n",
              "LONGITUDE                529\n",
              "LOCATION                 529\n",
              "dtype: int64"
            ]
          },
          "execution_count": 23,
          "metadata": {},
          "output_type": "execute_result"
        }
      ],
      "source": []
    },
    {
      "cell_type": "markdown",
      "metadata": {
        "id": "KUjxrtjh44bx"
      },
      "source": [
        "You can now proceed to the the following questions. Please note that a graded assignment will follow this lab and there will be a question on each of the problems stated below. It can be from the answer you received or the code you write for this problem. Therefore, please keep a note of both your codes as well as the response you generate.\n"
      ]
    },
    {
      "cell_type": "markdown",
      "metadata": {
        "id": "ZBgHCZWz44bx"
      },
      "source": [
        "## Problems\n",
        "\n",
        "Now write and execute SQL queries to solve assignment problems\n",
        "\n",
        "### Problem 1\n",
        "\n",
        "##### Find the total number of crimes recorded in the CRIME table.\n"
      ]
    },
    {
      "cell_type": "code",
      "execution_count": null,
      "metadata": {
        "id": "cIKIbw4g44bx",
        "outputId": "5393a4b0-ee79-48c9-e339-0c6c241430b3"
      },
      "outputs": [
        {
          "data": {
            "text/html": [
              "<div>\n",
              "<style scoped>\n",
              "    .dataframe tbody tr th:only-of-type {\n",
              "        vertical-align: middle;\n",
              "    }\n",
              "\n",
              "    .dataframe tbody tr th {\n",
              "        vertical-align: top;\n",
              "    }\n",
              "\n",
              "    .dataframe thead th {\n",
              "        text-align: right;\n",
              "    }\n",
              "</style>\n",
              "<table border=\"1\" class=\"dataframe\">\n",
              "  <thead>\n",
              "    <tr style=\"text-align: right;\">\n",
              "      <th></th>\n",
              "      <th>ID</th>\n",
              "      <th>CASE_NUMBER</th>\n",
              "      <th>DATE</th>\n",
              "      <th>BLOCK</th>\n",
              "      <th>IUCR</th>\n",
              "      <th>PRIMARY_TYPE</th>\n",
              "      <th>DESCRIPTION</th>\n",
              "      <th>LOCATION_DESCRIPTION</th>\n",
              "      <th>ARREST</th>\n",
              "      <th>DOMESTIC</th>\n",
              "      <th>...</th>\n",
              "      <th>DISTRICT</th>\n",
              "      <th>WARD</th>\n",
              "      <th>COMMUNITY_AREA_NUMBER</th>\n",
              "      <th>FBICODE</th>\n",
              "      <th>X_COORDINATE</th>\n",
              "      <th>Y_COORDINATE</th>\n",
              "      <th>YEAR</th>\n",
              "      <th>LATITUDE</th>\n",
              "      <th>LONGITUDE</th>\n",
              "      <th>LOCATION</th>\n",
              "    </tr>\n",
              "  </thead>\n",
              "  <tbody>\n",
              "    <tr>\n",
              "      <th>0</th>\n",
              "      <td>3512276</td>\n",
              "      <td>HK587712</td>\n",
              "      <td>2004-08-28</td>\n",
              "      <td>047XX S KEDZIE AVE</td>\n",
              "      <td>890</td>\n",
              "      <td>THEFT</td>\n",
              "      <td>FROM BUILDING</td>\n",
              "      <td>SMALL RETAIL STORE</td>\n",
              "      <td>False</td>\n",
              "      <td>False</td>\n",
              "      <td>...</td>\n",
              "      <td>9</td>\n",
              "      <td>14.0</td>\n",
              "      <td>58.0</td>\n",
              "      <td>6</td>\n",
              "      <td>1155838.0</td>\n",
              "      <td>1873050.0</td>\n",
              "      <td>2004</td>\n",
              "      <td>41.807440</td>\n",
              "      <td>-87.703956</td>\n",
              "      <td>(41.8074405, -87.703955849)</td>\n",
              "    </tr>\n",
              "    <tr>\n",
              "      <th>1</th>\n",
              "      <td>3406613</td>\n",
              "      <td>HK456306</td>\n",
              "      <td>2004-06-26</td>\n",
              "      <td>009XX N CENTRAL PARK AVE</td>\n",
              "      <td>820</td>\n",
              "      <td>THEFT</td>\n",
              "      <td>$500 AND UNDER</td>\n",
              "      <td>OTHER</td>\n",
              "      <td>False</td>\n",
              "      <td>False</td>\n",
              "      <td>...</td>\n",
              "      <td>11</td>\n",
              "      <td>27.0</td>\n",
              "      <td>23.0</td>\n",
              "      <td>6</td>\n",
              "      <td>1152206.0</td>\n",
              "      <td>1906127.0</td>\n",
              "      <td>2004</td>\n",
              "      <td>41.898280</td>\n",
              "      <td>-87.716406</td>\n",
              "      <td>(41.898279962, -87.716405505)</td>\n",
              "    </tr>\n",
              "    <tr>\n",
              "      <th>2</th>\n",
              "      <td>8002131</td>\n",
              "      <td>HT233595</td>\n",
              "      <td>2011-04-04</td>\n",
              "      <td>043XX S WABASH AVE</td>\n",
              "      <td>820</td>\n",
              "      <td>THEFT</td>\n",
              "      <td>$500 AND UNDER</td>\n",
              "      <td>NURSING HOME/RETIREMENT HOME</td>\n",
              "      <td>False</td>\n",
              "      <td>False</td>\n",
              "      <td>...</td>\n",
              "      <td>2</td>\n",
              "      <td>3.0</td>\n",
              "      <td>38.0</td>\n",
              "      <td>6</td>\n",
              "      <td>1177436.0</td>\n",
              "      <td>1876313.0</td>\n",
              "      <td>2011</td>\n",
              "      <td>41.815933</td>\n",
              "      <td>-87.624642</td>\n",
              "      <td>(41.815933131, -87.624642127)</td>\n",
              "    </tr>\n",
              "    <tr>\n",
              "      <th>3</th>\n",
              "      <td>7903289</td>\n",
              "      <td>HT133522</td>\n",
              "      <td>2010-12-30</td>\n",
              "      <td>083XX S KINGSTON AVE</td>\n",
              "      <td>840</td>\n",
              "      <td>THEFT</td>\n",
              "      <td>FINANCIAL ID THEFT: OVER $300</td>\n",
              "      <td>RESIDENCE</td>\n",
              "      <td>False</td>\n",
              "      <td>False</td>\n",
              "      <td>...</td>\n",
              "      <td>4</td>\n",
              "      <td>7.0</td>\n",
              "      <td>46.0</td>\n",
              "      <td>6</td>\n",
              "      <td>1194622.0</td>\n",
              "      <td>1850125.0</td>\n",
              "      <td>2010</td>\n",
              "      <td>41.743665</td>\n",
              "      <td>-87.562463</td>\n",
              "      <td>(41.743665322, -87.562462756)</td>\n",
              "    </tr>\n",
              "    <tr>\n",
              "      <th>4</th>\n",
              "      <td>10402076</td>\n",
              "      <td>HZ138551</td>\n",
              "      <td>2016-02-02</td>\n",
              "      <td>033XX W 66TH ST</td>\n",
              "      <td>820</td>\n",
              "      <td>THEFT</td>\n",
              "      <td>$500 AND UNDER</td>\n",
              "      <td>ALLEY</td>\n",
              "      <td>False</td>\n",
              "      <td>False</td>\n",
              "      <td>...</td>\n",
              "      <td>8</td>\n",
              "      <td>15.0</td>\n",
              "      <td>66.0</td>\n",
              "      <td>6</td>\n",
              "      <td>1155240.0</td>\n",
              "      <td>1860661.0</td>\n",
              "      <td>2016</td>\n",
              "      <td>41.773455</td>\n",
              "      <td>-87.706480</td>\n",
              "      <td>(41.773455295, -87.706480471)</td>\n",
              "    </tr>\n",
              "    <tr>\n",
              "      <th>...</th>\n",
              "      <td>...</td>\n",
              "      <td>...</td>\n",
              "      <td>...</td>\n",
              "      <td>...</td>\n",
              "      <td>...</td>\n",
              "      <td>...</td>\n",
              "      <td>...</td>\n",
              "      <td>...</td>\n",
              "      <td>...</td>\n",
              "      <td>...</td>\n",
              "      <td>...</td>\n",
              "      <td>...</td>\n",
              "      <td>...</td>\n",
              "      <td>...</td>\n",
              "      <td>...</td>\n",
              "      <td>...</td>\n",
              "      <td>...</td>\n",
              "      <td>...</td>\n",
              "      <td>...</td>\n",
              "      <td>...</td>\n",
              "      <td>...</td>\n",
              "    </tr>\n",
              "    <tr>\n",
              "      <th>528</th>\n",
              "      <td>10453948</td>\n",
              "      <td>HZ192829</td>\n",
              "      <td>2016-03-01</td>\n",
              "      <td>028XX E 79TH ST</td>\n",
              "      <td>1055</td>\n",
              "      <td>HUMAN TRAFFICKING</td>\n",
              "      <td>INVOLUNTARY SERVITUDE</td>\n",
              "      <td>APARTMENT</td>\n",
              "      <td>False</td>\n",
              "      <td>False</td>\n",
              "      <td>...</td>\n",
              "      <td>4</td>\n",
              "      <td>7.0</td>\n",
              "      <td>46.0</td>\n",
              "      <td>26</td>\n",
              "      <td>1196679.0</td>\n",
              "      <td>1853139.0</td>\n",
              "      <td>2016</td>\n",
              "      <td>41.751885</td>\n",
              "      <td>-87.554826</td>\n",
              "      <td>(41.751885152, -87.554825997)</td>\n",
              "    </tr>\n",
              "    <tr>\n",
              "      <th>529</th>\n",
              "      <td>10397129</td>\n",
              "      <td>HZ133234</td>\n",
              "      <td>2016-01-29</td>\n",
              "      <td>006XX W HARRISON ST</td>\n",
              "      <td>5114</td>\n",
              "      <td>NON - CRIMINAL</td>\n",
              "      <td>FOID - REVOCATION</td>\n",
              "      <td>STREET</td>\n",
              "      <td>False</td>\n",
              "      <td>False</td>\n",
              "      <td>...</td>\n",
              "      <td>1</td>\n",
              "      <td>2.0</td>\n",
              "      <td>28.0</td>\n",
              "      <td>26</td>\n",
              "      <td>1172257.0</td>\n",
              "      <td>1897564.0</td>\n",
              "      <td>2016</td>\n",
              "      <td>41.874363</td>\n",
              "      <td>-87.643013</td>\n",
              "      <td>(41.874363279, -87.643013039)</td>\n",
              "    </tr>\n",
              "    <tr>\n",
              "      <th>530</th>\n",
              "      <td>3269495</td>\n",
              "      <td>HJ747227</td>\n",
              "      <td>2003-11-08</td>\n",
              "      <td>012XX W 81ST ST</td>\n",
              "      <td>510</td>\n",
              "      <td>RITUALISM</td>\n",
              "      <td>AGG RIT MUT: HANDS/FIST/FEET SERIOUS INJURY</td>\n",
              "      <td>OTHER</td>\n",
              "      <td>False</td>\n",
              "      <td>False</td>\n",
              "      <td>...</td>\n",
              "      <td>6</td>\n",
              "      <td>21.0</td>\n",
              "      <td>71.0</td>\n",
              "      <td>04B</td>\n",
              "      <td>1169648.0</td>\n",
              "      <td>1851076.0</td>\n",
              "      <td>2003</td>\n",
              "      <td>41.746852</td>\n",
              "      <td>-87.653941</td>\n",
              "      <td>(41.746852486, -87.653941385)</td>\n",
              "    </tr>\n",
              "    <tr>\n",
              "      <th>531</th>\n",
              "      <td>10840565</td>\n",
              "      <td>JA143710</td>\n",
              "      <td>2017-02-06</td>\n",
              "      <td>009XX N KARLOV AVE</td>\n",
              "      <td>5073</td>\n",
              "      <td>NON-CRIMINAL (SUBJECT SPECIFIED)</td>\n",
              "      <td>NOTIFICATION OF CIVIL NO CONTACT ORDER</td>\n",
              "      <td>RESIDENCE</td>\n",
              "      <td>False</td>\n",
              "      <td>True</td>\n",
              "      <td>...</td>\n",
              "      <td>11</td>\n",
              "      <td>37.0</td>\n",
              "      <td>23.0</td>\n",
              "      <td>26</td>\n",
              "      <td>1148881.0</td>\n",
              "      <td>1905963.0</td>\n",
              "      <td>2017</td>\n",
              "      <td>41.897895</td>\n",
              "      <td>-87.728622</td>\n",
              "      <td>(41.89789489, -87.728622316)</td>\n",
              "    </tr>\n",
              "    <tr>\n",
              "      <th>532</th>\n",
              "      <td>1326195</td>\n",
              "      <td>G021609</td>\n",
              "      <td>2001-01-11</td>\n",
              "      <td>087XX S ESCANABA AV</td>\n",
              "      <td>9901</td>\n",
              "      <td>DOMESTIC VIOLENCE</td>\n",
              "      <td>DOMESTIC VIOLENCE</td>\n",
              "      <td>APARTMENT</td>\n",
              "      <td>True</td>\n",
              "      <td>True</td>\n",
              "      <td>...</td>\n",
              "      <td>4</td>\n",
              "      <td>NaN</td>\n",
              "      <td>NaN</td>\n",
              "      <td>08B</td>\n",
              "      <td>1196869.0</td>\n",
              "      <td>1847416.0</td>\n",
              "      <td>2001</td>\n",
              "      <td>41.736176</td>\n",
              "      <td>-87.554320</td>\n",
              "      <td>(41.73617608, -87.554319607)</td>\n",
              "    </tr>\n",
              "  </tbody>\n",
              "</table>\n",
              "<p>533 rows × 21 columns</p>\n",
              "</div>"
            ],
            "text/plain": [
              "           ID CASE_NUMBER        DATE                     BLOCK  IUCR  \\\n",
              "0     3512276    HK587712  2004-08-28        047XX S KEDZIE AVE   890   \n",
              "1     3406613    HK456306  2004-06-26  009XX N CENTRAL PARK AVE   820   \n",
              "2     8002131    HT233595  2011-04-04        043XX S WABASH AVE   820   \n",
              "3     7903289    HT133522  2010-12-30      083XX S KINGSTON AVE   840   \n",
              "4    10402076    HZ138551  2016-02-02           033XX W 66TH ST   820   \n",
              "..        ...         ...         ...                       ...   ...   \n",
              "528  10453948    HZ192829  2016-03-01           028XX E 79TH ST  1055   \n",
              "529  10397129    HZ133234  2016-01-29       006XX W HARRISON ST  5114   \n",
              "530   3269495    HJ747227  2003-11-08           012XX W 81ST ST   510   \n",
              "531  10840565    JA143710  2017-02-06        009XX N KARLOV AVE  5073   \n",
              "532   1326195     G021609  2001-01-11       087XX S ESCANABA AV  9901   \n",
              "\n",
              "                         PRIMARY_TYPE  \\\n",
              "0                               THEFT   \n",
              "1                               THEFT   \n",
              "2                               THEFT   \n",
              "3                               THEFT   \n",
              "4                               THEFT   \n",
              "..                                ...   \n",
              "528                 HUMAN TRAFFICKING   \n",
              "529                    NON - CRIMINAL   \n",
              "530                         RITUALISM   \n",
              "531  NON-CRIMINAL (SUBJECT SPECIFIED)   \n",
              "532                 DOMESTIC VIOLENCE   \n",
              "\n",
              "                                     DESCRIPTION  \\\n",
              "0                                  FROM BUILDING   \n",
              "1                                 $500 AND UNDER   \n",
              "2                                 $500 AND UNDER   \n",
              "3                  FINANCIAL ID THEFT: OVER $300   \n",
              "4                                 $500 AND UNDER   \n",
              "..                                           ...   \n",
              "528                        INVOLUNTARY SERVITUDE   \n",
              "529                            FOID - REVOCATION   \n",
              "530  AGG RIT MUT: HANDS/FIST/FEET SERIOUS INJURY   \n",
              "531       NOTIFICATION OF CIVIL NO CONTACT ORDER   \n",
              "532                            DOMESTIC VIOLENCE   \n",
              "\n",
              "             LOCATION_DESCRIPTION  ARREST  DOMESTIC  ...  DISTRICT  WARD  \\\n",
              "0              SMALL RETAIL STORE   False     False  ...         9  14.0   \n",
              "1                           OTHER   False     False  ...        11  27.0   \n",
              "2    NURSING HOME/RETIREMENT HOME   False     False  ...         2   3.0   \n",
              "3                       RESIDENCE   False     False  ...         4   7.0   \n",
              "4                           ALLEY   False     False  ...         8  15.0   \n",
              "..                            ...     ...       ...  ...       ...   ...   \n",
              "528                     APARTMENT   False     False  ...         4   7.0   \n",
              "529                        STREET   False     False  ...         1   2.0   \n",
              "530                         OTHER   False     False  ...         6  21.0   \n",
              "531                     RESIDENCE   False      True  ...        11  37.0   \n",
              "532                     APARTMENT    True      True  ...         4   NaN   \n",
              "\n",
              "     COMMUNITY_AREA_NUMBER  FBICODE X_COORDINATE  Y_COORDINATE  YEAR  \\\n",
              "0                     58.0        6    1155838.0     1873050.0  2004   \n",
              "1                     23.0        6    1152206.0     1906127.0  2004   \n",
              "2                     38.0        6    1177436.0     1876313.0  2011   \n",
              "3                     46.0        6    1194622.0     1850125.0  2010   \n",
              "4                     66.0        6    1155240.0     1860661.0  2016   \n",
              "..                     ...      ...          ...           ...   ...   \n",
              "528                   46.0       26    1196679.0     1853139.0  2016   \n",
              "529                   28.0       26    1172257.0     1897564.0  2016   \n",
              "530                   71.0      04B    1169648.0     1851076.0  2003   \n",
              "531                   23.0       26    1148881.0     1905963.0  2017   \n",
              "532                    NaN      08B    1196869.0     1847416.0  2001   \n",
              "\n",
              "      LATITUDE  LONGITUDE                       LOCATION  \n",
              "0    41.807440 -87.703956    (41.8074405, -87.703955849)  \n",
              "1    41.898280 -87.716406  (41.898279962, -87.716405505)  \n",
              "2    41.815933 -87.624642  (41.815933131, -87.624642127)  \n",
              "3    41.743665 -87.562463  (41.743665322, -87.562462756)  \n",
              "4    41.773455 -87.706480  (41.773455295, -87.706480471)  \n",
              "..         ...        ...                            ...  \n",
              "528  41.751885 -87.554826  (41.751885152, -87.554825997)  \n",
              "529  41.874363 -87.643013  (41.874363279, -87.643013039)  \n",
              "530  41.746852 -87.653941  (41.746852486, -87.653941385)  \n",
              "531  41.897895 -87.728622   (41.89789489, -87.728622316)  \n",
              "532  41.736176 -87.554320   (41.73617608, -87.554319607)  \n",
              "\n",
              "[533 rows x 21 columns]"
            ]
          },
          "execution_count": 44,
          "metadata": {},
          "output_type": "execute_result"
        }
      ],
      "source": [
        "dfCRIME"
      ]
    },
    {
      "cell_type": "markdown",
      "metadata": {
        "id": "6W_33CQH44bx"
      },
      "source": [
        "### Problem 2\n",
        "\n",
        "##### List community area names and numbers with per capita income less than 11000.\n"
      ]
    },
    {
      "cell_type": "code",
      "execution_count": null,
      "metadata": {
        "id": "ukr1UVO744bx"
      },
      "outputs": [],
      "source": [
        "import sqlite3\n",
        "\n",
        "conn = sqlite3.connect(\"database.db\")  # Connect to the database\n",
        "# Save DataFrame to a table (replace if exists)\n",
        "dfCRIME.to_sql(\"CRIME\", conn, if_exists=\"replace\", index=False)\n",
        "dfCENSUS.to_sql(\"CENSUS\", conn, if_exists=\"replace\", index=False)\n",
        "dfSCHOOLS.to_sql(\"SCHOOLS\", conn, if_exists=\"replace\", index=False)\n",
        "\n",
        "# Close connection\n",
        "conn.close()"
      ]
    },
    {
      "cell_type": "markdown",
      "metadata": {
        "id": "JsUJ2xGS44by"
      },
      "source": [
        "### Problem 3\n",
        "\n",
        "##### List all case numbers for crimes involving minors?(children are not considered minors for the purposes of crime analysis)\n"
      ]
    },
    {
      "cell_type": "code",
      "execution_count": null,
      "metadata": {
        "id": "dfAemJPZ44by",
        "outputId": "abac48d0-e20c-4de5-af66-c037b4ba4714"
      },
      "outputs": [
        {
          "name": "stdout",
          "output_type": "stream",
          "text": [
            "   COUNT(*)\n",
            "0       533\n"
          ]
        }
      ],
      "source": [
        "conn = sqlite3.connect(\"database.db\")\n",
        "df_sql = pd.read_sql(\"SELECT COUNT(*) FROM CRIME\", conn)\n",
        "print(df_sql.head())  # Display first 5 rows\n",
        "conn.close()\n"
      ]
    },
    {
      "cell_type": "code",
      "execution_count": null,
      "metadata": {
        "id": "2iBB0tuG44by",
        "outputId": "00a7e396-7e4e-44cd-9816-abb1d9639e72"
      },
      "outputs": [
        {
          "data": {
            "text/html": [
              "<div>\n",
              "<style scoped>\n",
              "    .dataframe tbody tr th:only-of-type {\n",
              "        vertical-align: middle;\n",
              "    }\n",
              "\n",
              "    .dataframe tbody tr th {\n",
              "        vertical-align: top;\n",
              "    }\n",
              "\n",
              "    .dataframe thead th {\n",
              "        text-align: right;\n",
              "    }\n",
              "</style>\n",
              "<table border=\"1\" class=\"dataframe\">\n",
              "  <thead>\n",
              "    <tr style=\"text-align: right;\">\n",
              "      <th></th>\n",
              "      <th>ID</th>\n",
              "      <th>CASE_NUMBER</th>\n",
              "      <th>DATE</th>\n",
              "      <th>BLOCK</th>\n",
              "      <th>IUCR</th>\n",
              "      <th>PRIMARY_TYPE</th>\n",
              "      <th>DESCRIPTION</th>\n",
              "      <th>LOCATION_DESCRIPTION</th>\n",
              "      <th>ARREST</th>\n",
              "      <th>DOMESTIC</th>\n",
              "      <th>BEAT</th>\n",
              "      <th>DISTRICT</th>\n",
              "      <th>WARD</th>\n",
              "      <th>COMMUNITY_AREA_NUMBER</th>\n",
              "      <th>FBICODE</th>\n",
              "      <th>X_COORDINATE</th>\n",
              "      <th>Y_COORDINATE</th>\n",
              "      <th>YEAR</th>\n",
              "      <th>LATITUDE</th>\n",
              "      <th>LONGITUDE</th>\n",
              "      <th>LOCATION</th>\n",
              "    </tr>\n",
              "  </thead>\n",
              "  <tbody>\n",
              "    <tr>\n",
              "      <th>0</th>\n",
              "      <td>3987219</td>\n",
              "      <td>HL266884</td>\n",
              "      <td>2005-03-31</td>\n",
              "      <td>024XX N CLARK ST</td>\n",
              "      <td>2210</td>\n",
              "      <td>LIQUOR LAW VIOLATION</td>\n",
              "      <td>SELL/GIVE/DEL LIQUOR TO MINOR</td>\n",
              "      <td>CONVENIENCE STORE</td>\n",
              "      <td>1</td>\n",
              "      <td>0</td>\n",
              "      <td>2333</td>\n",
              "      <td>19</td>\n",
              "      <td>43.0</td>\n",
              "      <td>7.0</td>\n",
              "      <td>22</td>\n",
              "      <td>1172680.0</td>\n",
              "      <td>1916483.0</td>\n",
              "      <td>2005</td>\n",
              "      <td>41.926269</td>\n",
              "      <td>-87.640899</td>\n",
              "      <td>(41.926268719, -87.640899336)</td>\n",
              "    </tr>\n",
              "    <tr>\n",
              "      <th>1</th>\n",
              "      <td>3266814</td>\n",
              "      <td>HK238408</td>\n",
              "      <td>2004-03-13</td>\n",
              "      <td>093XX S STONY ISLAND AVE</td>\n",
              "      <td>2230</td>\n",
              "      <td>LIQUOR LAW VIOLATION</td>\n",
              "      <td>ILLEGAL CONSUMPTION BY MINOR</td>\n",
              "      <td>ALLEY</td>\n",
              "      <td>1</td>\n",
              "      <td>0</td>\n",
              "      <td>413</td>\n",
              "      <td>4</td>\n",
              "      <td>8.0</td>\n",
              "      <td>48.0</td>\n",
              "      <td>22</td>\n",
              "      <td>1188539.0</td>\n",
              "      <td>1843379.0</td>\n",
              "      <td>2004</td>\n",
              "      <td>41.725301</td>\n",
              "      <td>-87.584966</td>\n",
              "      <td>(41.72530099, -87.584965887)</td>\n",
              "    </tr>\n",
              "  </tbody>\n",
              "</table>\n",
              "</div>"
            ],
            "text/plain": [
              "        ID CASE_NUMBER        DATE                     BLOCK  IUCR  \\\n",
              "0  3987219    HL266884  2005-03-31          024XX N CLARK ST  2210   \n",
              "1  3266814    HK238408  2004-03-13  093XX S STONY ISLAND AVE  2230   \n",
              "\n",
              "           PRIMARY_TYPE                    DESCRIPTION LOCATION_DESCRIPTION  \\\n",
              "0  LIQUOR LAW VIOLATION  SELL/GIVE/DEL LIQUOR TO MINOR    CONVENIENCE STORE   \n",
              "1  LIQUOR LAW VIOLATION   ILLEGAL CONSUMPTION BY MINOR                ALLEY   \n",
              "\n",
              "   ARREST  DOMESTIC  BEAT  DISTRICT  WARD  COMMUNITY_AREA_NUMBER FBICODE  \\\n",
              "0       1         0  2333        19  43.0                    7.0      22   \n",
              "1       1         0   413         4   8.0                   48.0      22   \n",
              "\n",
              "   X_COORDINATE  Y_COORDINATE  YEAR   LATITUDE  LONGITUDE  \\\n",
              "0     1172680.0     1916483.0  2005  41.926269 -87.640899   \n",
              "1     1188539.0     1843379.0  2004  41.725301 -87.584966   \n",
              "\n",
              "                        LOCATION  \n",
              "0  (41.926268719, -87.640899336)  \n",
              "1   (41.72530099, -87.584965887)  "
            ]
          },
          "metadata": {},
          "output_type": "display_data"
        }
      ],
      "source": [
        "conn = sqlite3.connect(\"database.db\")\n",
        "df_sql = pd.read_sql(\"SELECT * FROM CRIME WHERE lower(DESCRIPTION) LIKE '%minor%' \", conn)\n",
        "display(df_sql)  # Display first 5 rows\n",
        "conn.close()\n"
      ]
    },
    {
      "cell_type": "markdown",
      "metadata": {
        "id": "heU6b99s44by"
      },
      "source": [
        "### Problem 4\n",
        "\n",
        "##### List all kidnapping crimes involving a child?\n"
      ]
    },
    {
      "cell_type": "code",
      "execution_count": null,
      "metadata": {
        "id": "pb9NF3mR44by",
        "outputId": "4bdc0b92-bc0f-4bb0-af98-8da8caf6e2b9"
      },
      "outputs": [
        {
          "name": "stdout",
          "output_type": "stream",
          "text": [
            "                                     DESCRIPTION\n",
            "0                                  FROM BUILDING\n",
            "1                                 $500 AND UNDER\n",
            "2                  FINANCIAL ID THEFT: OVER $300\n",
            "3                                      OVER $500\n",
            "4                                   RETAIL THEFT\n",
            "..                                           ...\n",
            "98                         INVOLUNTARY SERVITUDE\n",
            "99                             FOID - REVOCATION\n",
            "100  AGG RIT MUT: HANDS/FIST/FEET SERIOUS INJURY\n",
            "101       NOTIFICATION OF CIVIL NO CONTACT ORDER\n",
            "102                            DOMESTIC VIOLENCE\n",
            "\n",
            "[103 rows x 1 columns]\n"
          ]
        }
      ],
      "source": [
        "conn = sqlite3.connect(\"database.db\")\n",
        "df_sql = pd.read_sql(\"SELECT distinct(PRIMARY_TYPE) FROM CRIME\", conn)\n",
        "# print(df_sql)  # Display first 5 rows\n",
        "\n",
        "df_sql2 = pd.read_sql(\"SELECT DISTINCT(DESCRIPTION) FROM CRIME\", conn)\n",
        "print(df_sql2)  # Display first 5 rows\n",
        "\n",
        "conn.close()\n"
      ]
    },
    {
      "cell_type": "markdown",
      "metadata": {
        "id": "uwg7KfQQ44bz"
      },
      "source": [
        "### Problem 5\n",
        "\n",
        "##### List the kind of crimes that were recorded at schools. (No repetitions)\n"
      ]
    },
    {
      "cell_type": "code",
      "execution_count": null,
      "metadata": {
        "id": "OCnEqhT944bz",
        "outputId": "ff242e76-f6d8-4228-820e-ba673a60ef3f"
      },
      "outputs": [
        {
          "name": "stdout",
          "output_type": "stream",
          "text": [
            "   COUNT(*)\n",
            "0        93\n"
          ]
        },
        {
          "data": {
            "text/html": [
              "<div>\n",
              "<style scoped>\n",
              "    .dataframe tbody tr th:only-of-type {\n",
              "        vertical-align: middle;\n",
              "    }\n",
              "\n",
              "    .dataframe tbody tr th {\n",
              "        vertical-align: top;\n",
              "    }\n",
              "\n",
              "    .dataframe thead th {\n",
              "        text-align: right;\n",
              "    }\n",
              "</style>\n",
              "<table border=\"1\" class=\"dataframe\">\n",
              "  <thead>\n",
              "    <tr style=\"text-align: right;\">\n",
              "      <th></th>\n",
              "      <th>avg(SAFETY_SCORE)</th>\n",
              "    </tr>\n",
              "  </thead>\n",
              "  <tbody>\n",
              "    <tr>\n",
              "      <th>0</th>\n",
              "      <td>48.0</td>\n",
              "    </tr>\n",
              "  </tbody>\n",
              "</table>\n",
              "</div>"
            ],
            "text/plain": [
              "   avg(SAFETY_SCORE)\n",
              "0               48.0"
            ]
          },
          "metadata": {},
          "output_type": "display_data"
        }
      ],
      "source": [
        "conn = sqlite3.connect(\"database.db\")\n",
        "df_sql = pd.read_sql(\"SELECT COUNT(*)  FROM SCHOOLS  WHERE [Elementary, Middle, or High School] = 'HS'\", conn)\n",
        "print(df_sql)  # Display first 5 rows\n",
        "\n",
        "df_sql2 = pd.read_sql(\"SELECT avg(SAFETY_SCORE) FROM SCHOOLS WHERE [Elementary, Middle, or High School] = 'MS'\", conn)\n",
        "display(df_sql2)  # Display first 5 rows\n",
        "\n",
        "conn.close()\n"
      ]
    },
    {
      "cell_type": "markdown",
      "metadata": {
        "id": "3qMKSKVL44bz"
      },
      "source": [
        "### Problem 6\n",
        "\n",
        "##### List the type of schools along with the average safety score for each type.\n"
      ]
    },
    {
      "cell_type": "code",
      "execution_count": null,
      "metadata": {
        "scrolled": true,
        "id": "JHtYDUTR44bz",
        "outputId": "27391c22-5cff-4e79-e6ea-2aaf49c2eb80"
      },
      "outputs": [
        {
          "data": {
            "text/html": [
              "<div>\n",
              "<style scoped>\n",
              "    .dataframe tbody tr th:only-of-type {\n",
              "        vertical-align: middle;\n",
              "    }\n",
              "\n",
              "    .dataframe tbody tr th {\n",
              "        vertical-align: top;\n",
              "    }\n",
              "\n",
              "    .dataframe thead th {\n",
              "        text-align: right;\n",
              "    }\n",
              "</style>\n",
              "<table border=\"1\" class=\"dataframe\">\n",
              "  <thead>\n",
              "    <tr style=\"text-align: right;\">\n",
              "      <th></th>\n",
              "      <th>COMMUNITY_AREA_NUMBER</th>\n",
              "      <th>COUNT(*)</th>\n",
              "    </tr>\n",
              "  </thead>\n",
              "  <tbody>\n",
              "    <tr>\n",
              "      <th>0</th>\n",
              "      <td>25.0</td>\n",
              "      <td>43</td>\n",
              "    </tr>\n",
              "    <tr>\n",
              "      <th>1</th>\n",
              "      <td>NaN</td>\n",
              "      <td>43</td>\n",
              "    </tr>\n",
              "    <tr>\n",
              "      <th>2</th>\n",
              "      <td>23.0</td>\n",
              "      <td>22</td>\n",
              "    </tr>\n",
              "    <tr>\n",
              "      <th>3</th>\n",
              "      <td>68.0</td>\n",
              "      <td>21</td>\n",
              "    </tr>\n",
              "    <tr>\n",
              "      <th>4</th>\n",
              "      <td>29.0</td>\n",
              "      <td>16</td>\n",
              "    </tr>\n",
              "    <tr>\n",
              "      <th>...</th>\n",
              "      <td>...</td>\n",
              "      <td>...</td>\n",
              "    </tr>\n",
              "    <tr>\n",
              "      <th>66</th>\n",
              "      <td>60.0</td>\n",
              "      <td>1</td>\n",
              "    </tr>\n",
              "    <tr>\n",
              "      <th>67</th>\n",
              "      <td>55.0</td>\n",
              "      <td>1</td>\n",
              "    </tr>\n",
              "    <tr>\n",
              "      <th>68</th>\n",
              "      <td>47.0</td>\n",
              "      <td>1</td>\n",
              "    </tr>\n",
              "    <tr>\n",
              "      <th>69</th>\n",
              "      <td>33.0</td>\n",
              "      <td>1</td>\n",
              "    </tr>\n",
              "    <tr>\n",
              "      <th>70</th>\n",
              "      <td>12.0</td>\n",
              "      <td>1</td>\n",
              "    </tr>\n",
              "  </tbody>\n",
              "</table>\n",
              "<p>71 rows × 2 columns</p>\n",
              "</div>"
            ],
            "text/plain": [
              "    COMMUNITY_AREA_NUMBER  COUNT(*)\n",
              "0                    25.0        43\n",
              "1                     NaN        43\n",
              "2                    23.0        22\n",
              "3                    68.0        21\n",
              "4                    29.0        16\n",
              "..                    ...       ...\n",
              "66                   60.0         1\n",
              "67                   55.0         1\n",
              "68                   47.0         1\n",
              "69                   33.0         1\n",
              "70                   12.0         1\n",
              "\n",
              "[71 rows x 2 columns]"
            ]
          },
          "metadata": {},
          "output_type": "display_data"
        }
      ],
      "source": [
        "conn = sqlite3.connect(\"database.db\")\n",
        "df_sql = pd.read_sql(\"SELECT COMMUNITY_AREA_NUMBER, COUNT(*)  FROM CRIME GROUP BY COMMUNITY_AREA_NUMBER ORDER BY COUNT(*) DESC \", conn)\n",
        "display(df_sql)\n",
        "conn.close()\n"
      ]
    },
    {
      "cell_type": "markdown",
      "metadata": {
        "id": "eHk3e82E44bz"
      },
      "source": [
        "### Problem 7\n",
        "\n",
        "##### List 5 community areas with highest % of households below poverty line\n"
      ]
    },
    {
      "cell_type": "code",
      "execution_count": null,
      "metadata": {
        "id": "HZTaZXMG44bz"
      },
      "outputs": [],
      "source": []
    },
    {
      "cell_type": "markdown",
      "metadata": {
        "id": "rc01z_6444b0"
      },
      "source": [
        "### Problem 8\n",
        "\n",
        "##### Which community area is most crime prone? Display the coumminty area number only.\n"
      ]
    },
    {
      "cell_type": "code",
      "execution_count": null,
      "metadata": {
        "id": "X6O0ES1V44b0"
      },
      "outputs": [],
      "source": []
    },
    {
      "cell_type": "markdown",
      "metadata": {
        "id": "j_kdBQYJ44b0"
      },
      "source": [
        "\n",
        "Double-click **here** for a hint\n",
        "\n",
        "<!--\n",
        "Query for the 'community area number' that has most number of incidents\n",
        "-->\n"
      ]
    },
    {
      "cell_type": "markdown",
      "metadata": {
        "id": "1pp0HYeO44b0"
      },
      "source": [
        "### Problem 9\n",
        "\n",
        "##### Use a sub-query to find the name of the community area with highest hardship index\n"
      ]
    },
    {
      "cell_type": "code",
      "execution_count": null,
      "metadata": {
        "id": "pI11u9EQ44b0"
      },
      "outputs": [],
      "source": []
    },
    {
      "cell_type": "markdown",
      "metadata": {
        "id": "pSzJtZRe44b0"
      },
      "source": [
        "### Problem 10\n",
        "\n",
        "##### Use a sub-query to determine the Community Area Name with most number of crimes?\n",
        "\n",
        "conn = sqlite3.connect(\"database.db\")\n",
        "df_sql = pd.read_sql(\"SELECT COMMUNITY_AREA_NUMBER, COUNT(*)  FROM CRIME GROUP BY COMMUNITY_AREA_NUMBER ORDER BY COUNT(*) DESC \", conn)\n",
        "display(df_sql)\n",
        "conn.close()\n",
        "\n"
      ]
    },
    {
      "cell_type": "code",
      "execution_count": null,
      "metadata": {
        "id": "cE1dWlcd44b0",
        "outputId": "9d5aba54-a042-4d6c-f8d5-8f0c184be64d"
      },
      "outputs": [
        {
          "data": {
            "text/html": [
              "<div>\n",
              "<style scoped>\n",
              "    .dataframe tbody tr th:only-of-type {\n",
              "        vertical-align: middle;\n",
              "    }\n",
              "\n",
              "    .dataframe tbody tr th {\n",
              "        vertical-align: top;\n",
              "    }\n",
              "\n",
              "    .dataframe thead th {\n",
              "        text-align: right;\n",
              "    }\n",
              "</style>\n",
              "<table border=\"1\" class=\"dataframe\">\n",
              "  <thead>\n",
              "    <tr style=\"text-align: right;\">\n",
              "      <th></th>\n",
              "      <th>LOCATION</th>\n",
              "      <th>COUNT(CASE_NUMBER)</th>\n",
              "    </tr>\n",
              "  </thead>\n",
              "  <tbody>\n",
              "    <tr>\n",
              "      <th>0</th>\n",
              "      <td>(41.875659108, -87.762568861)</td>\n",
              "      <td>43</td>\n",
              "    </tr>\n",
              "    <tr>\n",
              "      <th>1</th>\n",
              "      <td>(41.810834416, -87.675413895)</td>\n",
              "      <td>43</td>\n",
              "    </tr>\n",
              "    <tr>\n",
              "      <th>2</th>\n",
              "      <td>(41.898279962, -87.716405505)</td>\n",
              "      <td>22</td>\n",
              "    </tr>\n",
              "    <tr>\n",
              "      <th>3</th>\n",
              "      <td>(41.785122891, -87.644917177)</td>\n",
              "      <td>21</td>\n",
              "    </tr>\n",
              "    <tr>\n",
              "      <th>4</th>\n",
              "      <td>(41.854810528, -87.716309542)</td>\n",
              "      <td>16</td>\n",
              "    </tr>\n",
              "    <tr>\n",
              "      <th>...</th>\n",
              "      <td>...</td>\n",
              "      <td>...</td>\n",
              "    </tr>\n",
              "    <tr>\n",
              "      <th>66</th>\n",
              "      <td>(41.838762141, -87.65639763)</td>\n",
              "      <td>1</td>\n",
              "    </tr>\n",
              "    <tr>\n",
              "      <th>67</th>\n",
              "      <td>(41.645795847, -87.542472012)</td>\n",
              "      <td>1</td>\n",
              "    </tr>\n",
              "    <tr>\n",
              "      <th>68</th>\n",
              "      <td>(41.732330658, -87.596234295)</td>\n",
              "      <td>1</td>\n",
              "    </tr>\n",
              "    <tr>\n",
              "      <th>69</th>\n",
              "      <td>(41.846859523, -87.617323885)</td>\n",
              "      <td>1</td>\n",
              "    </tr>\n",
              "    <tr>\n",
              "      <th>70</th>\n",
              "      <td>(41.975279956, -87.752144317)</td>\n",
              "      <td>1</td>\n",
              "    </tr>\n",
              "  </tbody>\n",
              "</table>\n",
              "<p>71 rows × 2 columns</p>\n",
              "</div>"
            ],
            "text/plain": [
              "                         LOCATION  COUNT(CASE_NUMBER)\n",
              "0   (41.875659108, -87.762568861)                  43\n",
              "1   (41.810834416, -87.675413895)                  43\n",
              "2   (41.898279962, -87.716405505)                  22\n",
              "3   (41.785122891, -87.644917177)                  21\n",
              "4   (41.854810528, -87.716309542)                  16\n",
              "..                            ...                 ...\n",
              "66   (41.838762141, -87.65639763)                   1\n",
              "67  (41.645795847, -87.542472012)                   1\n",
              "68  (41.732330658, -87.596234295)                   1\n",
              "69  (41.846859523, -87.617323885)                   1\n",
              "70  (41.975279956, -87.752144317)                   1\n",
              "\n",
              "[71 rows x 2 columns]"
            ]
          },
          "metadata": {},
          "output_type": "display_data"
        }
      ],
      "source": [
        "conn = sqlite3.connect(\"database.db\")\n",
        "df_sql = pd.read_sql(\"SELECT LOCATION, COUNT(CASE_NUMBER)  FROM CRIME GROUP BY COMMUNITY_AREA_NUMBER ORDER BY COUNT(*) DESC \", conn)\n",
        "#df_sql = pd.read_sql(\"SELECT * FROM CRIME \", conn)\n",
        "display(df_sql)\n",
        "conn.close()\n"
      ]
    },
    {
      "cell_type": "markdown",
      "metadata": {
        "id": "sHyalQUc44cB"
      },
      "source": [
        "## Author(s)\n",
        "\n",
        "<h4> Hima Vasudevan </h4>\n",
        "<h4> Rav Ahuja </h4>\n",
        "<h4> Ramesh Sannreddy </h4>\n",
        "\n",
        "## Contribtuor(s)\n",
        "\n",
        "<h4> Malika Singla </h4>\n",
        "<h4>Abhishek Gagneja</h4>\n",
        "<!--\n",
        "## Change log\n",
        "\n",
        "| Date       | Version | Changed by        | Change Description                             |\n",
        "| ---------- | ------- | ----------------- | ---------------------------------------------- |\n",
        "|2023-10-18  | 2.6     | Abhishek Gagneja  | Modified instruction set |\n",
        "| 2022-03-04 | 2.5     | Lakshmi Holla     | Changed markdown.                   |\n",
        "| 2021-05-19 | 2.4     | Lakshmi Holla     | Updated the question                           |\n",
        "| 2021-04-30 | 2.3     | Malika Singla     | Updated the libraries                          |\n",
        "| 2021-01-15 | 2.2     | Rav Ahuja         | Removed problem 11 and fixed changelog         |\n",
        "| 2020-11-25 | 2.1     | Ramesh Sannareddy | Updated the problem statements, and datasets   |\n",
        "| 2020-09-05 | 2.0     | Malika Singla     | Moved lab to course repo in GitLab             |\n",
        "| 2018-07-18 | 1.0     | Rav Ahuja         | Several updates including loading instructions |\n",
        "| 2018-05-04 | 0.1     | Hima Vasudevan    | Created initial version                        |\n",
        "-->\n",
        "## <h3 align=\"center\"> © IBM Corporation 2023. All rights reserved. <h3/>\n"
      ]
    }
  ],
  "metadata": {
    "kernelspec": {
      "display_name": "Python 3 (ipykernel)",
      "language": "python",
      "name": "python3"
    },
    "language_info": {
      "codemirror_mode": {
        "name": "ipython",
        "version": 3
      },
      "file_extension": ".py",
      "mimetype": "text/x-python",
      "name": "python",
      "nbconvert_exporter": "python",
      "pygments_lexer": "ipython3",
      "version": "3.12.8"
    },
    "prev_pub_hash": "1d4caa9dff548bba47d8f4339e735e64605120c41df87b27e2c5cffed5fd81c9",
    "colab": {
      "provenance": [],
      "include_colab_link": true
    }
  },
  "nbformat": 4,
  "nbformat_minor": 0
}